{
  "nbformat": 4,
  "nbformat_minor": 0,
  "metadata": {
    "colab": {
      "name": "Stock Market Prediction",
      "provenance": [],
      "toc_visible": true
    },
    "kernelspec": {
      "name": "python3",
      "display_name": "Python 3"
    }
  },
  "cells": [
    {
      "cell_type": "markdown",
      "metadata": {
        "id": "oTr8JOesbxF1",
        "colab_type": "text"
      },
      "source": [
        "# Stock Market Prediction using Python (LSTM Algorithm)\n",
        "\n",
        "Menurut akun POEMS, Analisis teknikal merupakan analisa yang memperhatikan dan mempelajari pola-pola grafik, dimana pergerakan saham diidentifikasikan dengan pola-pola tertentu, Oleh karena itu belajar analisa teknikal sangat erat kaitanya dengan belajar membaca grafik/chart.\n",
        "\n",
        "Dengan menggunakan model regresi kita bisa melakukan prediksi trend atau harga dari saham berdasarkan data historikal yang ada"
      ]
    },
    {
      "cell_type": "markdown",
      "metadata": {
        "id": "rzJDo2QfcTIf",
        "colab_type": "text"
      },
      "source": [
        "## Import Packages"
      ]
    },
    {
      "cell_type": "code",
      "metadata": {
        "id": "16x7YkA8breI",
        "colab_type": "code",
        "colab": {
          "base_uri": "https://localhost:8080/",
          "height": 72
        },
        "outputId": "7706840e-5667-4223-be9f-419db1df640f"
      },
      "source": [
        "#Import Modules\n",
        "import math\n",
        "import pandas_datareader as web\n",
        "import numpy as np\n",
        "import pandas as pd\n",
        "from sklearn.preprocessing import MinMaxScaler\n",
        "from keras.models import Sequential\n",
        "from keras.layers import Dense, LSTM\n",
        "import matplotlib.pyplot as plt\n",
        "plt.style.use('fivethirtyeight')"
      ],
      "execution_count": null,
      "outputs": [
        {
          "output_type": "stream",
          "text": [
            "/usr/local/lib/python3.6/dist-packages/pandas_datareader/compat/__init__.py:7: FutureWarning: pandas.util.testing is deprecated. Use the functions in the public API at pandas.testing instead.\n",
            "  from pandas.util.testing import assert_frame_equal\n"
          ],
          "name": "stderr"
        }
      ]
    },
    {
      "cell_type": "markdown",
      "metadata": {
        "id": "pESjIvoqczXX",
        "colab_type": "text"
      },
      "source": [
        "## Load dataset\n",
        "\n",
        "Kita akan menarik data dari web yahoo finance, emiten yang akan kita lihat adalah PT Telekomunikasi Indonesia Tbk, dengan kode emiten TLKM"
      ]
    },
    {
      "cell_type": "code",
      "metadata": {
        "id": "5P2Ts7_qcyLm",
        "colab_type": "code",
        "colab": {}
      },
      "source": [
        "df = web.DataReader('TLKM.jk',\n",
        "                    data_source='yahoo',\n",
        "                    start='2005-09-30',\n",
        "                    end='2020-09-23')"
      ],
      "execution_count": null,
      "outputs": []
    },
    {
      "cell_type": "code",
      "metadata": {
        "id": "iMQud5h4dikz",
        "colab_type": "code",
        "colab": {
          "base_uri": "https://localhost:8080/",
          "height": 230
        },
        "outputId": "168aafc8-2e43-48f1-af6a-616869249162"
      },
      "source": [
        "df.head()"
      ],
      "execution_count": null,
      "outputs": [
        {
          "output_type": "execute_result",
          "data": {
            "text/html": [
              "<div>\n",
              "<style scoped>\n",
              "    .dataframe tbody tr th:only-of-type {\n",
              "        vertical-align: middle;\n",
              "    }\n",
              "\n",
              "    .dataframe tbody tr th {\n",
              "        vertical-align: top;\n",
              "    }\n",
              "\n",
              "    .dataframe thead th {\n",
              "        text-align: right;\n",
              "    }\n",
              "</style>\n",
              "<table border=\"1\" class=\"dataframe\">\n",
              "  <thead>\n",
              "    <tr style=\"text-align: right;\">\n",
              "      <th></th>\n",
              "      <th>High</th>\n",
              "      <th>Low</th>\n",
              "      <th>Open</th>\n",
              "      <th>Close</th>\n",
              "      <th>Volume</th>\n",
              "      <th>Adj Close</th>\n",
              "    </tr>\n",
              "    <tr>\n",
              "      <th>Date</th>\n",
              "      <th></th>\n",
              "      <th></th>\n",
              "      <th></th>\n",
              "      <th></th>\n",
              "      <th></th>\n",
              "      <th></th>\n",
              "    </tr>\n",
              "  </thead>\n",
              "  <tbody>\n",
              "    <tr>\n",
              "      <th>2005-09-30</th>\n",
              "      <td>1080.0</td>\n",
              "      <td>1040.0</td>\n",
              "      <td>1070.0</td>\n",
              "      <td>1070.0</td>\n",
              "      <td>213815000.0</td>\n",
              "      <td>176.604263</td>\n",
              "    </tr>\n",
              "    <tr>\n",
              "      <th>2005-10-03</th>\n",
              "      <td>1080.0</td>\n",
              "      <td>1030.0</td>\n",
              "      <td>1060.0</td>\n",
              "      <td>1060.0</td>\n",
              "      <td>74412500.0</td>\n",
              "      <td>174.953796</td>\n",
              "    </tr>\n",
              "    <tr>\n",
              "      <th>2005-10-04</th>\n",
              "      <td>1110.0</td>\n",
              "      <td>1070.0</td>\n",
              "      <td>1080.0</td>\n",
              "      <td>1080.0</td>\n",
              "      <td>111667500.0</td>\n",
              "      <td>178.254807</td>\n",
              "    </tr>\n",
              "    <tr>\n",
              "      <th>2005-10-05</th>\n",
              "      <td>1090.0</td>\n",
              "      <td>1070.0</td>\n",
              "      <td>1080.0</td>\n",
              "      <td>1080.0</td>\n",
              "      <td>74335000.0</td>\n",
              "      <td>178.254807</td>\n",
              "    </tr>\n",
              "    <tr>\n",
              "      <th>2005-10-06</th>\n",
              "      <td>1080.0</td>\n",
              "      <td>1040.0</td>\n",
              "      <td>1060.0</td>\n",
              "      <td>1060.0</td>\n",
              "      <td>89692500.0</td>\n",
              "      <td>174.953796</td>\n",
              "    </tr>\n",
              "  </tbody>\n",
              "</table>\n",
              "</div>"
            ],
            "text/plain": [
              "              High     Low    Open   Close       Volume   Adj Close\n",
              "Date                                                               \n",
              "2005-09-30  1080.0  1040.0  1070.0  1070.0  213815000.0  176.604263\n",
              "2005-10-03  1080.0  1030.0  1060.0  1060.0   74412500.0  174.953796\n",
              "2005-10-04  1110.0  1070.0  1080.0  1080.0  111667500.0  178.254807\n",
              "2005-10-05  1090.0  1070.0  1080.0  1080.0   74335000.0  178.254807\n",
              "2005-10-06  1080.0  1040.0  1060.0  1060.0   89692500.0  174.953796"
            ]
          },
          "metadata": {
            "tags": []
          },
          "execution_count": 3
        }
      ]
    },
    {
      "cell_type": "code",
      "metadata": {
        "id": "70rNuQSedj9v",
        "colab_type": "code",
        "colab": {
          "base_uri": "https://localhost:8080/",
          "height": 35
        },
        "outputId": "c2b1e53f-2272-4bda-f08e-3056841b878b"
      },
      "source": [
        "df.shape"
      ],
      "execution_count": null,
      "outputs": [
        {
          "output_type": "execute_result",
          "data": {
            "text/plain": [
              "(3692, 6)"
            ]
          },
          "metadata": {
            "tags": []
          },
          "execution_count": 4
        }
      ]
    },
    {
      "cell_type": "markdown",
      "metadata": {
        "id": "dXKHOuArdnSk",
        "colab_type": "text"
      },
      "source": [
        "### Make Visualization from the data"
      ]
    },
    {
      "cell_type": "code",
      "metadata": {
        "id": "HfhOuKkodldE",
        "colab_type": "code",
        "colab": {
          "base_uri": "https://localhost:8080/",
          "height": 486
        },
        "outputId": "e08aaf54-7925-4a74-eb1b-a7feb953c6c9"
      },
      "source": [
        "plt.figure(figsize=(16,8))\n",
        "plt.title('Historikal Harga Penutupan TLKM')\n",
        "plt.plot(df['Close'])\n",
        "plt.xlabel('Tanggal', fontsize=18)\n",
        "plt.ylabel('Harga penutup (IDR)', fontsize=18)\n",
        "plt.show()"
      ],
      "execution_count": null,
      "outputs": [
        {
          "output_type": "display_data",
          "data": {
            "image/png": "[encoded data removed]",
            "text/plain": [
              "<Figure size 1152x576 with 1 Axes>"
            ]
          },
          "metadata": {
            "tags": [],
            "needs_background": "light"
          }
        }
      ]
    },
    {
      "cell_type": "markdown",
      "metadata": {
        "id": "UIJdASfUeE-Y",
        "colab_type": "text"
      },
      "source": [
        "## Data Preparation"
      ]
    },
    {
      "cell_type": "code",
      "metadata": {
        "id": "LFrqteW7d-L0",
        "colab_type": "code",
        "colab": {}
      },
      "source": [
        "#Kita ambil hanya kolom harga penutupan\n",
        "data = df.filter(['Close'])"
      ],
      "execution_count": null,
      "outputs": []
    },
    {
      "cell_type": "code",
      "metadata": {
        "id": "rbt5h1RoeOBE",
        "colab_type": "code",
        "colab": {}
      },
      "source": [
        "#kita ambil hanya nilainya saja\n",
        "dataset = data.values"
      ],
      "execution_count": null,
      "outputs": []
    },
    {
      "cell_type": "code",
      "metadata": {
        "id": "t7Tgew2JeR2D",
        "colab_type": "code",
        "colab": {}
      },
      "source": [
        "#kita akan memisahkan data training dengan data testing sebanyak 80 : 20\n",
        "training_data_len = math.ceil(len(dataset) * .8)\n"
      ],
      "execution_count": null,
      "outputs": []
    },
    {
      "cell_type": "code",
      "metadata": {
        "id": "1RKzKWa8fAIv",
        "colab_type": "code",
        "colab": {
          "base_uri": "https://localhost:8080/",
          "height": 35
        },
        "outputId": "7a070a03-c4c4-4467-965c-8b9d1e564e86"
      },
      "source": [
        "#kita cek jumlah data trainig\n",
        "print(training_data_len)"
      ],
      "execution_count": null,
      "outputs": [
        {
          "output_type": "stream",
          "text": [
            "2954\n"
          ],
          "name": "stdout"
        }
      ]
    },
    {
      "cell_type": "markdown",
      "metadata": {
        "id": "B0g5bvtQfGDC",
        "colab_type": "text"
      },
      "source": [
        "### Scaling\n",
        "Menyamakan range agar meningkatkan performa model"
      ]
    },
    {
      "cell_type": "code",
      "metadata": {
        "id": "TbY4kV3dfEzH",
        "colab_type": "code",
        "colab": {}
      },
      "source": [
        "scaler = MinMaxScaler(feature_range=(0,1))\n",
        "scaled_data = scaler.fit_transform(dataset)"
      ],
      "execution_count": null,
      "outputs": []
    },
    {
      "cell_type": "code",
      "metadata": {
        "id": "yfnOmiLjfWta",
        "colab_type": "code",
        "colab": {
          "base_uri": "https://localhost:8080/",
          "height": 141
        },
        "outputId": "08d3cdbb-383b-4a92-b45f-896dfb22fe4b"
      },
      "source": [
        "#check for scaled data\n",
        "scaled_data"
      ],
      "execution_count": null,
      "outputs": [
        {
          "output_type": "execute_result",
          "data": {
            "text/plain": [
              "array([[0.02228047],\n",
              "       [0.01965924],\n",
              "       [0.0249017 ],\n",
              "       ...,\n",
              "       [0.47051114],\n",
              "       [0.4757536 ],\n",
              "       [0.45740498]])"
            ]
          },
          "metadata": {
            "tags": []
          },
          "execution_count": 11
        }
      ]
    },
    {
      "cell_type": "markdown",
      "metadata": {
        "id": "LtTDNsrKfcAn",
        "colab_type": "text"
      },
      "source": [
        "### Menyiapkan data training"
      ]
    },
    {
      "cell_type": "code",
      "metadata": {
        "id": "hmCEMq6DfaSX",
        "colab_type": "code",
        "colab": {
          "base_uri": "https://localhost:8080/",
          "height": 284
        },
        "outputId": "e3503b67-040a-4805-be5c-ac1370e1e186"
      },
      "source": [
        "train_data = scaled_data[0:training_data_len, :]\n",
        "\n",
        "x_train = []\n",
        "y_train = []\n",
        "\n",
        "for i in range(60, len(train_data)):\n",
        "  x_train.append(train_data[i-60:i, 0])\n",
        "  y_train.append(train_data[i, 0])\n",
        "  #check for a bunch of x_train and y _train\n",
        "  if i <=60:\n",
        "    print(x_train)\n",
        "    print()\n",
        "    print(y_train)\n",
        "    print()"
      ],
      "execution_count": null,
      "outputs": [
        {
          "output_type": "stream",
          "text": [
            "[array([0.02228047, 0.01965924, 0.0249017 , 0.0249017 , 0.01965924,\n",
            "       0.00917431, 0.01441678, 0.01441678, 0.01441678, 0.00917431,\n",
            "       0.01441678, 0.01441678, 0.02228047, 0.01441678, 0.01179554,\n",
            "       0.01179554, 0.01179554, 0.00655308, 0.00655308, 0.00655308,\n",
            "       0.00655308, 0.00393185, 0.00655308, 0.00131062, 0.00131062,\n",
            "       0.        , 0.00262123, 0.0078637 , 0.00655308, 0.00655308,\n",
            "       0.01179554, 0.01441678, 0.01441678, 0.01179554, 0.01965924,\n",
            "       0.01703801, 0.02228047, 0.02228047, 0.03014417, 0.02752294,\n",
            "       0.0327654 , 0.03800786, 0.03538663, 0.04587156, 0.04587156,\n",
            "       0.04849279, 0.05635649, 0.06422018, 0.05897772, 0.05111402,\n",
            "       0.0406291 , 0.05635649, 0.05635649, 0.05897772, 0.05897772,\n",
            "       0.05373526, 0.05373526, 0.05111402, 0.05111402, 0.06159895])]\n",
            "\n",
            "[0.06422018348623854]\n",
            "\n"
          ],
          "name": "stdout"
        }
      ]
    },
    {
      "cell_type": "code",
      "metadata": {
        "id": "odf1v9_LgFUP",
        "colab_type": "code",
        "colab": {}
      },
      "source": [
        "#mengubah data menjadi format numpy array\n",
        "x_train, y_train = np.array(x_train), np.array(y_train)"
      ],
      "execution_count": null,
      "outputs": []
    },
    {
      "cell_type": "code",
      "metadata": {
        "id": "zYUH_GK-gQXn",
        "colab_type": "code",
        "colab": {}
      },
      "source": [
        "#mengubah dimensi data train menjadi 3 dimensi karena LSTM butuh data berdimensi 3\n",
        "# [number of samples, number of time steps, and number of features]\n",
        "x_train = np.reshape(x_train, (\n",
        "    x_train.shape[0],\n",
        "    x_train.shape[1],\n",
        "    1\n",
        "))"
      ],
      "execution_count": null,
      "outputs": []
    },
    {
      "cell_type": "markdown",
      "metadata": {
        "id": "m5B0Q_5q2u8B",
        "colab_type": "text"
      },
      "source": [
        "## Modeling"
      ]
    },
    {
      "cell_type": "markdown",
      "metadata": {
        "id": "w38kbSgng0PN",
        "colab_type": "text"
      },
      "source": [
        "### Build Model Architecture"
      ]
    },
    {
      "cell_type": "code",
      "metadata": {
        "id": "nMDU8DOwgnL1",
        "colab_type": "code",
        "colab": {}
      },
      "source": [
        "#Build Architecture for Neural Network\n",
        "model = Sequential()\n",
        "model.add(LSTM(50, return_sequences=True,\n",
        "               input_shape=(x_train.shape[1], 1)))\n",
        "model.add(LSTM(50, return_sequences=False))\n",
        "model.add(Dense(25))\n",
        "model.add(Dense(1))"
      ],
      "execution_count": null,
      "outputs": []
    },
    {
      "cell_type": "code",
      "metadata": {
        "id": "EFe3nlTJhN4T",
        "colab_type": "code",
        "colab": {}
      },
      "source": [
        "#Compile the architecture\n",
        "model.compile(optimizer='adam', loss='mean_squared_error')"
      ],
      "execution_count": null,
      "outputs": []
    },
    {
      "cell_type": "markdown",
      "metadata": {
        "id": "guGJIRQfhXCG",
        "colab_type": "text"
      },
      "source": [
        "### Modeling"
      ]
    },
    {
      "cell_type": "code",
      "metadata": {
        "id": "d7LYrM_GhV2E",
        "colab_type": "code",
        "colab": {
          "base_uri": "https://localhost:8080/",
          "height": 1000
        },
        "outputId": "121c6e86-7260-4511-b6bf-247dc1331840"
      },
      "source": [
        "model.fit(x_train, y_train, batch_size=1, epochs=100)"
      ],
      "execution_count": null,
      "outputs": [
        {
          "output_type": "stream",
          "text": [
            "Epoch 1/100\n",
            "2894/2894 [==============================] - 63s 22ms/step - loss: 0.0010\n",
            "Epoch 2/100\n",
            "2894/2894 [==============================] - 63s 22ms/step - loss: 5.3082e-04\n",
            "Epoch 3/100\n",
            "2894/2894 [==============================] - 63s 22ms/step - loss: 4.2419e-04\n",
            "Epoch 4/100\n",
            "2894/2894 [==============================] - 63s 22ms/step - loss: 3.6619e-04\n",
            "Epoch 5/100\n",
            "2894/2894 [==============================] - 63s 22ms/step - loss: 3.2843e-04\n",
            "Epoch 6/100\n",
            "2894/2894 [==============================] - 64s 22ms/step - loss: 3.2595e-04\n",
            "Epoch 7/100\n",
            "2894/2894 [==============================] - 63s 22ms/step - loss: 2.6058e-04\n",
            "Epoch 8/100\n",
            "2894/2894 [==============================] - 62s 22ms/step - loss: 2.6961e-04\n",
            "Epoch 9/100\n",
            "2894/2894 [==============================] - 63s 22ms/step - loss: 2.4444e-04\n",
            "Epoch 10/100\n",
            "2894/2894 [==============================] - 63s 22ms/step - loss: 2.5997e-04\n",
            "Epoch 11/100\n",
            "2894/2894 [==============================] - 64s 22ms/step - loss: 2.3753e-04\n",
            "Epoch 12/100\n",
            "2894/2894 [==============================] - 63s 22ms/step - loss: 2.4078e-04\n",
            "Epoch 13/100\n",
            "2894/2894 [==============================] - 62s 21ms/step - loss: 2.3401e-04\n",
            "Epoch 14/100\n",
            "2894/2894 [==============================] - 62s 22ms/step - loss: 2.3169e-04\n",
            "Epoch 15/100\n",
            "2894/2894 [==============================] - 62s 21ms/step - loss: 2.1405e-04\n",
            "Epoch 16/100\n",
            "2894/2894 [==============================] - 62s 21ms/step - loss: 2.2713e-04\n",
            "Epoch 17/100\n",
            "2894/2894 [==============================] - 62s 22ms/step - loss: 2.1900e-04\n",
            "Epoch 18/100\n",
            "2894/2894 [==============================] - 62s 22ms/step - loss: 2.1920e-04\n",
            "Epoch 19/100\n",
            "2894/2894 [==============================] - 62s 21ms/step - loss: 2.0862e-04\n",
            "Epoch 20/100\n",
            "2894/2894 [==============================] - 62s 21ms/step - loss: 2.1421e-04\n",
            "Epoch 21/100\n",
            "2894/2894 [==============================] - 63s 22ms/step - loss: 2.1729e-04\n",
            "Epoch 22/100\n",
            "2894/2894 [==============================] - 62s 22ms/step - loss: 2.1181e-04\n",
            "Epoch 23/100\n",
            "2894/2894 [==============================] - 62s 21ms/step - loss: 2.0229e-04\n",
            "Epoch 24/100\n",
            "2894/2894 [==============================] - 62s 22ms/step - loss: 2.0973e-04\n",
            "Epoch 25/100\n",
            "2894/2894 [==============================] - 62s 22ms/step - loss: 2.0270e-04\n",
            "Epoch 26/100\n",
            "2894/2894 [==============================] - 63s 22ms/step - loss: 2.0164e-04\n",
            "Epoch 27/100\n",
            "2894/2894 [==============================] - 62s 21ms/step - loss: 2.0354e-04\n",
            "Epoch 28/100\n",
            "2894/2894 [==============================] - 60s 21ms/step - loss: 1.9659e-04\n",
            "Epoch 29/100\n",
            "2894/2894 [==============================] - 60s 21ms/step - loss: 1.8796e-04\n",
            "Epoch 30/100\n",
            "2894/2894 [==============================] - 61s 21ms/step - loss: 1.9136e-04\n",
            "Epoch 31/100\n",
            "2894/2894 [==============================] - 61s 21ms/step - loss: 2.0778e-04\n",
            "Epoch 32/100\n",
            "2894/2894 [==============================] - 62s 21ms/step - loss: 1.9522e-04\n",
            "Epoch 33/100\n",
            "2894/2894 [==============================] - 61s 21ms/step - loss: 1.9915e-04\n",
            "Epoch 34/100\n",
            "2894/2894 [==============================] - 61s 21ms/step - loss: 1.9827e-04\n",
            "Epoch 35/100\n",
            "2894/2894 [==============================] - 61s 21ms/step - loss: 1.9876e-04\n",
            "Epoch 36/100\n",
            "2894/2894 [==============================] - 62s 21ms/step - loss: 2.0537e-04\n",
            "Epoch 37/100\n",
            "2894/2894 [==============================] - 61s 21ms/step - loss: 2.0039e-04\n",
            "Epoch 38/100\n",
            "2894/2894 [==============================] - 60s 21ms/step - loss: 1.9445e-04\n",
            "Epoch 39/100\n",
            "2894/2894 [==============================] - 60s 21ms/step - loss: 1.8903e-04\n",
            "Epoch 40/100\n",
            "2894/2894 [==============================] - 60s 21ms/step - loss: 1.9489e-04\n",
            "Epoch 41/100\n",
            "2894/2894 [==============================] - 60s 21ms/step - loss: 1.9016e-04\n",
            "Epoch 42/100\n",
            "2894/2894 [==============================] - 61s 21ms/step - loss: 1.8761e-04\n",
            "Epoch 43/100\n",
            "2894/2894 [==============================] - 60s 21ms/step - loss: 1.8577e-04\n",
            "Epoch 44/100\n",
            "2894/2894 [==============================] - 60s 21ms/step - loss: 1.9251e-04\n",
            "Epoch 45/100\n",
            "2894/2894 [==============================] - 60s 21ms/step - loss: 1.8186e-04\n",
            "Epoch 46/100\n",
            "2894/2894 [==============================] - 60s 21ms/step - loss: 1.8539e-04\n",
            "Epoch 47/100\n",
            "2894/2894 [==============================] - 61s 21ms/step - loss: 1.9792e-04\n",
            "Epoch 48/100\n",
            "2894/2894 [==============================] - 60s 21ms/step - loss: 1.8252e-04\n",
            "Epoch 49/100\n",
            "2894/2894 [==============================] - 60s 21ms/step - loss: 1.8356e-04\n",
            "Epoch 50/100\n",
            "2894/2894 [==============================] - 60s 21ms/step - loss: 1.7724e-04\n",
            "Epoch 51/100\n",
            "2894/2894 [==============================] - 60s 21ms/step - loss: 1.8360e-04\n",
            "Epoch 52/100\n",
            "2894/2894 [==============================] - 60s 21ms/step - loss: 1.8168e-04\n",
            "Epoch 53/100\n",
            "2894/2894 [==============================] - 67s 23ms/step - loss: 1.8101e-04\n",
            "Epoch 54/100\n",
            "2894/2894 [==============================] - 62s 21ms/step - loss: 1.8439e-04\n",
            "Epoch 55/100\n",
            "2894/2894 [==============================] - 61s 21ms/step - loss: 1.8217e-04\n",
            "Epoch 56/100\n",
            "2894/2894 [==============================] - 62s 21ms/step - loss: 1.7561e-04\n",
            "Epoch 57/100\n",
            "2894/2894 [==============================] - 62s 22ms/step - loss: 1.7363e-04\n",
            "Epoch 58/100\n",
            "2894/2894 [==============================] - 61s 21ms/step - loss: 1.7863e-04\n",
            "Epoch 59/100\n",
            "2894/2894 [==============================] - 61s 21ms/step - loss: 1.7981e-04\n",
            "Epoch 60/100\n",
            "2894/2894 [==============================] - 61s 21ms/step - loss: 1.7657e-04\n",
            "Epoch 61/100\n",
            "2894/2894 [==============================] - 61s 21ms/step - loss: 1.7170e-04\n",
            "Epoch 62/100\n",
            " 764/2894 [======>.......................] - ETA: 44s - loss: 1.3870e-04Buffered data was truncated after reaching the output size limit."
          ],
          "name": "stdout"
        }
      ]
    },
    {
      "cell_type": "markdown",
      "metadata": {
        "id": "eDAi9vHj2zhr",
        "colab_type": "text"
      },
      "source": [
        "## Model Evaluation"
      ]
    },
    {
      "cell_type": "markdown",
      "metadata": {
        "id": "2znwzpzIihU5",
        "colab_type": "text"
      },
      "source": [
        "### Prepare for data test"
      ]
    },
    {
      "cell_type": "code",
      "metadata": {
        "id": "TK3YyftKheQU",
        "colab_type": "code",
        "colab": {}
      },
      "source": [
        "test_data = scaled_data[training_data_len-60:, :]"
      ],
      "execution_count": null,
      "outputs": []
    },
    {
      "cell_type": "code",
      "metadata": {
        "id": "cJfaiOeoiqWc",
        "colab_type": "code",
        "colab": {}
      },
      "source": [
        "x_test = []\n",
        "y_test = dataset[training_data_len:, :] #actual values diambil dari dataset\n",
        "\n",
        "for i in range(60, len(test_data)):\n",
        "  x_test.append(test_data[i-60:i, 0])"
      ],
      "execution_count": null,
      "outputs": []
    },
    {
      "cell_type": "code",
      "metadata": {
        "id": "MpyJCGQqi8uh",
        "colab_type": "code",
        "colab": {}
      },
      "source": [
        "#ubah x_test menjadi numpy array\n",
        "x_test = np.array(x_test)"
      ],
      "execution_count": null,
      "outputs": []
    },
    {
      "cell_type": "code",
      "metadata": {
        "id": "6_gVgLXIjE5o",
        "colab_type": "code",
        "colab": {}
      },
      "source": [
        "#mengubah x test menjadi 3 dimensi\n",
        "x_test = np.reshape(x_test,\n",
        "                    (x_test.shape[0],\n",
        "                     x_test.shape[1],\n",
        "                     1))"
      ],
      "execution_count": null,
      "outputs": []
    },
    {
      "cell_type": "code",
      "metadata": {
        "id": "qxObOlsxQu_B",
        "colab_type": "code",
        "colab": {}
      },
      "source": [
        ""
      ],
      "execution_count": null,
      "outputs": []
    },
    {
      "cell_type": "markdown",
      "metadata": {
        "id": "DZHb4--ejnUS",
        "colab_type": "text"
      },
      "source": [
        "### Make Predictions for Test Data"
      ]
    },
    {
      "cell_type": "code",
      "metadata": {
        "id": "5w7nomdEjXjm",
        "colab_type": "code",
        "colab": {}
      },
      "source": [
        "predictions = model.predict(x_test)\n",
        "\n",
        "# mengembalikan lagi ke angka awal (tidak di scaling)\n",
        "predictions = scaler.inverse_transform(predictions)"
      ],
      "execution_count": null,
      "outputs": []
    },
    {
      "cell_type": "markdown",
      "metadata": {
        "id": "v7VLasdykRN6",
        "colab_type": "text"
      },
      "source": [
        "### Model Evaluation\n",
        "\n",
        "Menghitung RMSE dari data prediksi terhadap data asli"
      ]
    },
    {
      "cell_type": "code",
      "metadata": {
        "id": "wfXXGBYHkQUg",
        "colab_type": "code",
        "colab": {}
      },
      "source": [
        "rmse = np.sqrt(np.mean(predictions- y_test)**2)"
      ],
      "execution_count": null,
      "outputs": []
    },
    {
      "cell_type": "code",
      "metadata": {
        "id": "rjJedLWpkfow",
        "colab_type": "code",
        "colab": {
          "base_uri": "https://localhost:8080/",
          "height": 35
        },
        "outputId": "10c03b06-a036-48cf-fb0f-4a5b883b563e"
      },
      "source": [
        "print(rmse)"
      ],
      "execution_count": null,
      "outputs": [
        {
          "output_type": "stream",
          "text": [
            "6.4342213038829605\n"
          ],
          "name": "stdout"
        }
      ]
    },
    {
      "cell_type": "markdown",
      "metadata": {
        "id": "tkO2UfVPkoLE",
        "colab_type": "text"
      },
      "source": [
        "Membuat Visualisasi Hasil Prediksi"
      ]
    },
    {
      "cell_type": "code",
      "metadata": {
        "id": "4DaVTAB1kgki",
        "colab_type": "code",
        "colab": {
          "base_uri": "https://localhost:8080/",
          "height": 144
        },
        "outputId": "3d244f83-3c94-40ee-e988-17c56cc91d7b"
      },
      "source": [
        "#membuat dataframe\n",
        "train = data[:training_data_len]\n",
        "valid = data[training_data_len:]\n",
        "valid['Predictions'] = predictions"
      ],
      "execution_count": null,
      "outputs": [
        {
          "output_type": "stream",
          "text": [
            "/usr/local/lib/python3.6/dist-packages/ipykernel_launcher.py:4: SettingWithCopyWarning: \n",
            "A value is trying to be set on a copy of a slice from a DataFrame.\n",
            "Try using .loc[row_indexer,col_indexer] = value instead\n",
            "\n",
            "See the caveats in the documentation: https://pandas.pydata.org/pandas-docs/stable/user_guide/indexing.html#returning-a-view-versus-a-copy\n",
            "  after removing the cwd from sys.path.\n"
          ],
          "name": "stderr"
        }
      ]
    },
    {
      "cell_type": "code",
      "metadata": {
        "id": "LAQHrsvHk2W_",
        "colab_type": "code",
        "colab": {
          "base_uri": "https://localhost:8080/",
          "height": 230
        },
        "outputId": "640ef8f2-ef7c-4e91-d4fc-8757ee0052ac"
      },
      "source": [
        "train.head()"
      ],
      "execution_count": null,
      "outputs": [
        {
          "output_type": "execute_result",
          "data": {
            "text/html": [
              "<div>\n",
              "<style scoped>\n",
              "    .dataframe tbody tr th:only-of-type {\n",
              "        vertical-align: middle;\n",
              "    }\n",
              "\n",
              "    .dataframe tbody tr th {\n",
              "        vertical-align: top;\n",
              "    }\n",
              "\n",
              "    .dataframe thead th {\n",
              "        text-align: right;\n",
              "    }\n",
              "</style>\n",
              "<table border=\"1\" class=\"dataframe\">\n",
              "  <thead>\n",
              "    <tr style=\"text-align: right;\">\n",
              "      <th></th>\n",
              "      <th>Close</th>\n",
              "    </tr>\n",
              "    <tr>\n",
              "      <th>Date</th>\n",
              "      <th></th>\n",
              "    </tr>\n",
              "  </thead>\n",
              "  <tbody>\n",
              "    <tr>\n",
              "      <th>2005-09-30</th>\n",
              "      <td>1070.0</td>\n",
              "    </tr>\n",
              "    <tr>\n",
              "      <th>2005-10-03</th>\n",
              "      <td>1060.0</td>\n",
              "    </tr>\n",
              "    <tr>\n",
              "      <th>2005-10-04</th>\n",
              "      <td>1080.0</td>\n",
              "    </tr>\n",
              "    <tr>\n",
              "      <th>2005-10-05</th>\n",
              "      <td>1080.0</td>\n",
              "    </tr>\n",
              "    <tr>\n",
              "      <th>2005-10-06</th>\n",
              "      <td>1060.0</td>\n",
              "    </tr>\n",
              "  </tbody>\n",
              "</table>\n",
              "</div>"
            ],
            "text/plain": [
              "             Close\n",
              "Date              \n",
              "2005-09-30  1070.0\n",
              "2005-10-03  1060.0\n",
              "2005-10-04  1080.0\n",
              "2005-10-05  1080.0\n",
              "2005-10-06  1060.0"
            ]
          },
          "metadata": {
            "tags": []
          },
          "execution_count": 26
        }
      ]
    },
    {
      "cell_type": "code",
      "metadata": {
        "id": "SGu0T1epk3jz",
        "colab_type": "code",
        "colab": {
          "base_uri": "https://localhost:8080/",
          "height": 230
        },
        "outputId": "3df7a403-0ff8-4ba8-e091-eebc13983a7b"
      },
      "source": [
        "valid.head()"
      ],
      "execution_count": null,
      "outputs": [
        {
          "output_type": "execute_result",
          "data": {
            "text/html": [
              "<div>\n",
              "<style scoped>\n",
              "    .dataframe tbody tr th:only-of-type {\n",
              "        vertical-align: middle;\n",
              "    }\n",
              "\n",
              "    .dataframe tbody tr th {\n",
              "        vertical-align: top;\n",
              "    }\n",
              "\n",
              "    .dataframe thead th {\n",
              "        text-align: right;\n",
              "    }\n",
              "</style>\n",
              "<table border=\"1\" class=\"dataframe\">\n",
              "  <thead>\n",
              "    <tr style=\"text-align: right;\">\n",
              "      <th></th>\n",
              "      <th>Close</th>\n",
              "      <th>Predictions</th>\n",
              "    </tr>\n",
              "    <tr>\n",
              "      <th>Date</th>\n",
              "      <th></th>\n",
              "      <th></th>\n",
              "    </tr>\n",
              "  </thead>\n",
              "  <tbody>\n",
              "    <tr>\n",
              "      <th>2017-11-06</th>\n",
              "      <td>4190.0</td>\n",
              "      <td>4061.036865</td>\n",
              "    </tr>\n",
              "    <tr>\n",
              "      <th>2017-11-07</th>\n",
              "      <td>4190.0</td>\n",
              "      <td>4149.390137</td>\n",
              "    </tr>\n",
              "    <tr>\n",
              "      <th>2017-11-08</th>\n",
              "      <td>4100.0</td>\n",
              "      <td>4154.244629</td>\n",
              "    </tr>\n",
              "    <tr>\n",
              "      <th>2017-11-09</th>\n",
              "      <td>4160.0</td>\n",
              "      <td>4074.765869</td>\n",
              "    </tr>\n",
              "    <tr>\n",
              "      <th>2017-11-10</th>\n",
              "      <td>4120.0</td>\n",
              "      <td>4128.310059</td>\n",
              "    </tr>\n",
              "  </tbody>\n",
              "</table>\n",
              "</div>"
            ],
            "text/plain": [
              "             Close  Predictions\n",
              "Date                           \n",
              "2017-11-06  4190.0  4061.036865\n",
              "2017-11-07  4190.0  4149.390137\n",
              "2017-11-08  4100.0  4154.244629\n",
              "2017-11-09  4160.0  4074.765869\n",
              "2017-11-10  4120.0  4128.310059"
            ]
          },
          "metadata": {
            "tags": []
          },
          "execution_count": 27
        }
      ]
    },
    {
      "cell_type": "code",
      "metadata": {
        "id": "Vc8UUf5mk5c_",
        "colab_type": "code",
        "colab": {
          "base_uri": "https://localhost:8080/",
          "height": 763
        },
        "outputId": "2af165e6-cc2b-4a0a-f13d-907fd894be4d"
      },
      "source": [
        "plt.figure(figsize=(16,8))\n",
        "plt.title('Grafik Model Prediksi Harga TLKM', fontsize=25)\n",
        "plt.xlabel('Tanggal',fontsize=18)\n",
        "plt.ylabel('Harga Penutupan (IDR)', fontsize=18)\n",
        "plt.plot(train['Close'])\n",
        "plt.plot(valid[['Close', 'Predictions']])\n",
        "plt.legend(['Train', 'Val', 'Predict'], loc='lower_right')\n",
        "plt.show()"
      ],
      "execution_count": null,
      "outputs": [
        {
          "output_type": "stream",
          "text": [
            "/usr/local/lib/python3.6/dist-packages/ipykernel_launcher.py:7: MatplotlibDeprecationWarning: Unrecognized location 'lower_right'. Falling back on 'best'; valid locations are\n",
            "\tbest\n",
            "\tupper right\n",
            "\tupper left\n",
            "\tlower left\n",
            "\tlower right\n",
            "\tright\n",
            "\tcenter left\n",
            "\tcenter right\n",
            "\tlower center\n",
            "\tupper center\n",
            "\tcenter\n",
            "This will raise an exception in 3.3.\n",
            "  import sys\n"
          ],
          "name": "stderr"
        },
        {
          "output_type": "display_data",
          "data": {
            "image/png": "[encoded data removed]",
            "text/plain": [
              "<Figure size 1152x576 with 1 Axes>"
            ]
          },
          "metadata": {
            "tags": [],
            "needs_background": "light"
          }
        }
      ]
    },
    {
      "cell_type": "markdown",
      "metadata": {
        "id": "rUl9Y51anSh_",
        "colab_type": "text"
      },
      "source": [
        "### Predict Next Day Price"
      ]
    },
    {
      "cell_type": "code",
      "metadata": {
        "id": "Djqu8XGFlkRT",
        "colab_type": "code",
        "colab": {
          "base_uri": "https://localhost:8080/",
          "height": 35
        },
        "outputId": "14a5e98e-a973-4286-95b7-227de23cdc7b"
      },
      "source": [
        "tlkm_quote = web.DataReader('TLKM.jk', data_source='yahoo',\n",
        "                            start='2012-01-01',\n",
        "                            end='2020-09-24')\n",
        "new_df = tlkm_quote.filter(['Close'])\n",
        "last_60_days = new_df[-60:].values\n",
        "last_60_days_scaled = scaler.transform(last_60_days)\n",
        "x_test = []\n",
        "x_test.append(last_60_days_scaled)\n",
        "x_test = np.array(x_test)\n",
        "x_test = np.reshape(x_test,\n",
        "                    (x_test.shape[0],\n",
        "                    x_test.shape[1], 1))\n",
        "pred_price = model.predict(x_test)\n",
        "pred_price = scaler.inverse_transform(pred_price)\n",
        "print(pred_price)"
      ],
      "execution_count": null,
      "outputs": [
        {
          "output_type": "stream",
          "text": [
            "[[2700.608]]\n"
          ],
          "name": "stdout"
        }
      ]
    },
    {
      "cell_type": "code",
      "metadata": {
        "id": "eyd-HYK9RXpz",
        "colab_type": "code",
        "colab": {
          "base_uri": "https://localhost:8080/",
          "height": 35
        },
        "outputId": "522a5c29-1fa2-417a-c1cb-a43af9cc83ef"
      },
      "source": [
        "print(\"Prediksi Harga Saham TLKM pada penutupan Jum'at, 25 September 2020 ialah : {}\".format(pred_price))"
      ],
      "execution_count": null,
      "outputs": [
        {
          "output_type": "stream",
          "text": [
            "Prediksi Harga Saham TLKM pada penutupan Jum'at, 25 September 2020 ialah : [[2700.608]]\n"
          ],
          "name": "stdout"
        }
      ]
    },
    {
      "cell_type": "code",
      "metadata": {
        "id": "soY6iGVD252v",
        "colab_type": "code",
        "colab": {
          "base_uri": "https://localhost:8080/",
          "height": 88
        },
        "outputId": "77614bfb-7af6-4278-ebee-5edc7fcdc7d1"
      },
      "source": [
        "tlkm_quote2 = web.DataReader('TLKM.jk', data_source='yahoo',\n",
        "                            start='2020-09-24',\n",
        "                            end='2020-09-24')"
      ],
      "execution_count": null,
      "outputs": [
        {
          "output_type": "stream",
          "text": [
            "Date\n",
            "2020-09-24    2730\n",
            "2020-09-25    2700\n",
            "Name: Close, dtype: int64\n"
          ],
          "name": "stdout"
        }
      ]
    },
    {
      "cell_type": "code",
      "metadata": {
        "id": "V5IEjTvv357B",
        "colab_type": "code",
        "colab": {
          "base_uri": "https://localhost:8080/",
          "height": 35
        },
        "outputId": "70e366cc-7c81-46be-86fe-3ee1e27c203e"
      },
      "source": [
        "print('Harga TLKM per jam 10:18 WIB adalah : {}'.format(tlkm_quote2['Close'][1]))"
      ],
      "execution_count": null,
      "outputs": [
        {
          "output_type": "stream",
          "text": [
            "2700\n"
          ],
          "name": "stdout"
        }
      ]
    },
    {
      "cell_type": "code",
      "metadata": {
        "id": "-YKb8OAkRFbl",
        "colab_type": "code",
        "colab": {}
      },
      "source": [
        ""
      ],
      "execution_count": null,
      "outputs": []
    }
  ]
}